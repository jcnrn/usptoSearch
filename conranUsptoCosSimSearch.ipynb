{
  "nbformat": 4,
  "nbformat_minor": 0,
  "metadata": {
    "colab": {
      "name": "conranUsptoCosSimSearch.ipynb",
      "version": "0.3.2",
      "provenance": [],
      "collapsed_sections": []
    },
    "kernelspec": {
      "name": "python3",
      "display_name": "Python 3"
    }
  },
  "cells": [
    {
      "cell_type": "code",
      "metadata": {
        "id": "xgFtfevQvIHS",
        "colab_type": "code",
        "outputId": "7745ffa7-b39c-48a7-ec3b-2dd93be2d2fe",
        "colab": {
          "base_uri": "https://localhost:8080/",
          "height": 606
        }
      },
      "source": [
        "!git clone https://github.com/jcnrn/usptoSearch.git\n",
        "!pip install autocorrect\n",
        "!pip3 install fuzzywuzzy[speedup]\n",
        "!pip install uspto-opendata-python"
      ],
      "execution_count": 2,
      "outputs": [
        {
          "output_type": "stream",
          "text": [
            "fatal: destination path 'usptoSearch' already exists and is not an empty directory.\n",
            "Requirement already satisfied: autocorrect in /usr/local/lib/python3.6/dist-packages (0.3.0)\n",
            "Requirement already satisfied: fuzzywuzzy[speedup] in /usr/local/lib/python3.6/dist-packages (0.17.0)\n",
            "Requirement already satisfied: python-levenshtein>=0.12; extra == \"speedup\" in /usr/local/lib/python3.6/dist-packages (from fuzzywuzzy[speedup]) (0.12.0)\n",
            "Requirement already satisfied: setuptools in /usr/local/lib/python3.6/dist-packages (from python-levenshtein>=0.12; extra == \"speedup\"->fuzzywuzzy[speedup]) (41.2.0)\n",
            "Requirement already satisfied: uspto-opendata-python in /usr/local/lib/python3.6/dist-packages (0.8.3)\n",
            "Requirement already satisfied: beautifulsoup4==4.6.0 in /usr/local/lib/python3.6/dist-packages (from uspto-opendata-python) (4.6.0)\n",
            "Requirement already satisfied: redis==2.10.6 in /usr/local/lib/python3.6/dist-packages (from uspto-opendata-python) (2.10.6)\n",
            "Requirement already satisfied: jsonpointer==1.12 in /usr/local/lib/python3.6/dist-packages (from uspto-opendata-python) (1.12)\n",
            "Requirement already satisfied: clint==0.5.1 in /usr/local/lib/python3.6/dist-packages (from uspto-opendata-python) (0.5.1)\n",
            "Requirement already satisfied: celery==4.1.0 in /usr/local/lib/python3.6/dist-packages (from uspto-opendata-python) (4.1.0)\n",
            "Requirement already satisfied: requests==2.18.4 in /usr/local/lib/python3.6/dist-packages (from uspto-opendata-python) (2.18.4)\n",
            "Requirement already satisfied: awesome-slugify==1.6.5 in /usr/local/lib/python3.6/dist-packages (from uspto-opendata-python) (1.6.5)\n",
            "Requirement already satisfied: docopt==0.6.2 in /usr/local/lib/python3.6/dist-packages (from uspto-opendata-python) (0.6.2)\n",
            "Requirement already satisfied: pathvalidate==0.16.2 in /usr/local/lib/python3.6/dist-packages (from uspto-opendata-python) (0.16.2)\n",
            "Requirement already satisfied: lxml==4.2.5 in /usr/local/lib/python3.6/dist-packages (from uspto-opendata-python) (4.2.5)\n",
            "Requirement already satisfied: args in /usr/local/lib/python3.6/dist-packages (from clint==0.5.1->uspto-opendata-python) (0.1.0)\n",
            "Requirement already satisfied: billiard<3.6.0,>=3.5.0.2 in /usr/local/lib/python3.6/dist-packages (from celery==4.1.0->uspto-opendata-python) (3.5.0.5)\n",
            "Requirement already satisfied: pytz>dev in /usr/local/lib/python3.6/dist-packages (from celery==4.1.0->uspto-opendata-python) (2018.9)\n",
            "Requirement already satisfied: kombu<5.0,>=4.0.2 in /usr/local/lib/python3.6/dist-packages (from celery==4.1.0->uspto-opendata-python) (4.6.4)\n",
            "Requirement already satisfied: certifi>=2017.4.17 in /usr/local/lib/python3.6/dist-packages (from requests==2.18.4->uspto-opendata-python) (2019.6.16)\n",
            "Requirement already satisfied: idna<2.7,>=2.5 in /usr/local/lib/python3.6/dist-packages (from requests==2.18.4->uspto-opendata-python) (2.6)\n",
            "Requirement already satisfied: chardet<3.1.0,>=3.0.2 in /usr/local/lib/python3.6/dist-packages (from requests==2.18.4->uspto-opendata-python) (3.0.4)\n",
            "Requirement already satisfied: urllib3<1.23,>=1.21.1 in /usr/local/lib/python3.6/dist-packages (from requests==2.18.4->uspto-opendata-python) (1.22)\n",
            "Requirement already satisfied: regex in /usr/local/lib/python3.6/dist-packages (from awesome-slugify==1.6.5->uspto-opendata-python) (2019.8.19)\n",
            "Requirement already satisfied: Unidecode<0.05,>=0.04.14 in /usr/local/lib/python3.6/dist-packages (from awesome-slugify==1.6.5->uspto-opendata-python) (0.4.21)\n",
            "Requirement already satisfied: amqp<3.0,>=2.5.1 in /usr/local/lib/python3.6/dist-packages (from kombu<5.0,>=4.0.2->celery==4.1.0->uspto-opendata-python) (2.5.1)\n",
            "Requirement already satisfied: importlib-metadata>=0.18 in /usr/local/lib/python3.6/dist-packages (from kombu<5.0,>=4.0.2->celery==4.1.0->uspto-opendata-python) (0.19)\n",
            "Requirement already satisfied: vine<5.0.0a1,>=1.1.3 in /usr/local/lib/python3.6/dist-packages (from amqp<3.0,>=2.5.1->kombu<5.0,>=4.0.2->celery==4.1.0->uspto-opendata-python) (1.3.0)\n",
            "Requirement already satisfied: zipp>=0.5 in /usr/local/lib/python3.6/dist-packages (from importlib-metadata>=0.18->kombu<5.0,>=4.0.2->celery==4.1.0->uspto-opendata-python) (0.6.0)\n",
            "Requirement already satisfied: more-itertools in /usr/local/lib/python3.6/dist-packages (from zipp>=0.5->importlib-metadata>=0.18->kombu<5.0,>=4.0.2->celery==4.1.0->uspto-opendata-python) (7.2.0)\n"
          ],
          "name": "stdout"
        }
      ]
    },
    {
      "cell_type": "code",
      "metadata": {
        "id": "L6UnJ9c-icrX",
        "colab_type": "code",
        "outputId": "2c996f35-4591-453c-c269-2fa11c3b26fc",
        "colab": {
          "base_uri": "https://localhost:8080/",
          "height": 146
        }
      },
      "source": [
        "import os\n",
        "import nltk.data\n",
        "import numpy\n",
        "import pandas as pd\n",
        "from os import listdir\n",
        "from os.path import isfile, join\n",
        "from nltk.tokenize import TreebankWordTokenizer\n",
        "nltk.download('punkt')\n",
        "nltk.download('wordnet')\n",
        "nltk.download('stopwords')\n",
        "sentence_tokenizer = nltk.data.load('tokenizers/punkt/english.pickle')\n",
        "treebank_tokenizer = TreebankWordTokenizer()\n",
        "import itertools\n",
        "from nltk.stem import WordNetLemmatizer\n",
        "wordnet_lemmatizer = WordNetLemmatizer()\n",
        "import re\n",
        "import math\n",
        "from collections import Counter\n",
        "\n",
        "\n",
        "from nltk.corpus import stopwords\n",
        "stop = stopwords.words('english')\n",
        "\n",
        "from autocorrect import spell \n",
        "\n",
        "from fuzzywuzzy import fuzz\n",
        "from fuzzywuzzy import process\n",
        "\n",
        "from nltk.stem import SnowballStemmer\n",
        "\n",
        "import requests\n",
        "from pandas.io.json import json_normalize\n",
        "import json\n",
        "\n",
        "os.chdir('/content/usptoSearch')\n",
        "os.getcwd()"
      ],
      "execution_count": 3,
      "outputs": [
        {
          "output_type": "stream",
          "text": [
            "[nltk_data] Downloading package punkt to /root/nltk_data...\n",
            "[nltk_data]   Package punkt is already up-to-date!\n",
            "[nltk_data] Downloading package wordnet to /root/nltk_data...\n",
            "[nltk_data]   Package wordnet is already up-to-date!\n",
            "[nltk_data] Downloading package stopwords to /root/nltk_data...\n",
            "[nltk_data]   Package stopwords is already up-to-date!\n"
          ],
          "name": "stdout"
        },
        {
          "output_type": "execute_result",
          "data": {
            "text/plain": [
              "'/content/usptoSearch'"
            ]
          },
          "metadata": {
            "tags": []
          },
          "execution_count": 3
        }
      ]
    },
    {
      "cell_type": "code",
      "metadata": {
        "id": "qUauuRCSmAu6",
        "colab_type": "code",
        "outputId": "85fa7dab-ee8b-482c-efd1-4b5eb68f7ed6",
        "colab": {
          "base_uri": "https://localhost:8080/",
          "height": 225
        }
      },
      "source": [
        "#import data\n",
        "df = pd.read_csv('usptoSubsetData.csv')\n",
        "print(len(df))\n",
        "df.head()"
      ],
      "execution_count": 4,
      "outputs": [
        {
          "output_type": "stream",
          "text": [
            "10462\n"
          ],
          "name": "stdout"
        },
        {
          "output_type": "execute_result",
          "data": {
            "text/html": [
              "<div>\n",
              "<style scoped>\n",
              "    .dataframe tbody tr th:only-of-type {\n",
              "        vertical-align: middle;\n",
              "    }\n",
              "\n",
              "    .dataframe tbody tr th {\n",
              "        vertical-align: top;\n",
              "    }\n",
              "\n",
              "    .dataframe thead th {\n",
              "        text-align: right;\n",
              "    }\n",
              "</style>\n",
              "<table border=\"1\" class=\"dataframe\">\n",
              "  <thead>\n",
              "    <tr style=\"text-align: right;\">\n",
              "      <th></th>\n",
              "      <th>pat_no</th>\n",
              "      <th>claim_no</th>\n",
              "      <th>claim_txt</th>\n",
              "      <th>dependencies</th>\n",
              "      <th>ind_flg</th>\n",
              "      <th>appl_id</th>\n",
              "    </tr>\n",
              "  </thead>\n",
              "  <tbody>\n",
              "    <tr>\n",
              "      <th>0</th>\n",
              "      <td>4039651</td>\n",
              "      <td>2</td>\n",
              "      <td>2. The process of claim 1, wherein in process ...</td>\n",
              "      <td>1</td>\n",
              "      <td>0</td>\n",
              "      <td>NaN</td>\n",
              "    </tr>\n",
              "    <tr>\n",
              "      <th>1</th>\n",
              "      <td>4039651</td>\n",
              "      <td>1</td>\n",
              "      <td>1. In the process for the production of hydrog...</td>\n",
              "      <td>NaN</td>\n",
              "      <td>1</td>\n",
              "      <td>NaN</td>\n",
              "    </tr>\n",
              "    <tr>\n",
              "      <th>2</th>\n",
              "      <td>4039652</td>\n",
              "      <td>23</td>\n",
              "      <td>23. A method as in claim 1 wherein said substa...</td>\n",
              "      <td>1</td>\n",
              "      <td>0</td>\n",
              "      <td>5405316.0</td>\n",
              "    </tr>\n",
              "    <tr>\n",
              "      <th>3</th>\n",
              "      <td>4039652</td>\n",
              "      <td>29</td>\n",
              "      <td>29. A method as in claim 26 wherein said immob...</td>\n",
              "      <td>26</td>\n",
              "      <td>0</td>\n",
              "      <td>5405316.0</td>\n",
              "    </tr>\n",
              "    <tr>\n",
              "      <th>4</th>\n",
              "      <td>4039652</td>\n",
              "      <td>24</td>\n",
              "      <td>24. A method as in claim 23 wherein said subst...</td>\n",
              "      <td>23</td>\n",
              "      <td>0</td>\n",
              "      <td>5405316.0</td>\n",
              "    </tr>\n",
              "  </tbody>\n",
              "</table>\n",
              "</div>"
            ],
            "text/plain": [
              "    pat_no  claim_no  ... ind_flg    appl_id\n",
              "0  4039651         2  ...       0        NaN\n",
              "1  4039651         1  ...       1        NaN\n",
              "2  4039652        23  ...       0  5405316.0\n",
              "3  4039652        29  ...       0  5405316.0\n",
              "4  4039652        24  ...       0  5405316.0\n",
              "\n",
              "[5 rows x 6 columns]"
            ]
          },
          "metadata": {
            "tags": []
          },
          "execution_count": 4
        }
      ]
    },
    {
      "cell_type": "code",
      "metadata": {
        "id": "yC7l1cr-y9V5",
        "colab_type": "code",
        "outputId": "aabffade-9ac7-4f41-8c03-36f00a6aaee5",
        "colab": {
          "base_uri": "https://localhost:8080/",
          "height": 225
        }
      },
      "source": [
        "df1=df.copy()\n",
        "#concatenate claims by patent number\n",
        "df2 = df1.sort_values(['pat_no', 'claim_no']).groupby('pat_no', sort=False).claim_txt.apply(' '.join).reset_index(name='concat_claims')\n",
        "df2.to_csv('concatenated.csv')\n",
        "print(len(df))\n",
        "df2.head()\n"
      ],
      "execution_count": 5,
      "outputs": [
        {
          "output_type": "stream",
          "text": [
            "10462\n"
          ],
          "name": "stdout"
        },
        {
          "output_type": "execute_result",
          "data": {
            "text/html": [
              "<div>\n",
              "<style scoped>\n",
              "    .dataframe tbody tr th:only-of-type {\n",
              "        vertical-align: middle;\n",
              "    }\n",
              "\n",
              "    .dataframe tbody tr th {\n",
              "        vertical-align: top;\n",
              "    }\n",
              "\n",
              "    .dataframe thead th {\n",
              "        text-align: right;\n",
              "    }\n",
              "</style>\n",
              "<table border=\"1\" class=\"dataframe\">\n",
              "  <thead>\n",
              "    <tr style=\"text-align: right;\">\n",
              "      <th></th>\n",
              "      <th>pat_no</th>\n",
              "      <th>concat_claims</th>\n",
              "    </tr>\n",
              "  </thead>\n",
              "  <tbody>\n",
              "    <tr>\n",
              "      <th>0</th>\n",
              "      <td>4039651</td>\n",
              "      <td>1. In the process for the production of hydrog...</td>\n",
              "    </tr>\n",
              "    <tr>\n",
              "      <th>1</th>\n",
              "      <td>4039652</td>\n",
              "      <td>1. A method for the quantitative determination...</td>\n",
              "    </tr>\n",
              "    <tr>\n",
              "      <th>2</th>\n",
              "      <td>4039653</td>\n",
              "      <td>1. A tablet for releasing a relatively uniform...</td>\n",
              "    </tr>\n",
              "    <tr>\n",
              "      <th>3</th>\n",
              "      <td>4039654</td>\n",
              "      <td>1. A prostanoic acid derivative of the formula...</td>\n",
              "    </tr>\n",
              "    <tr>\n",
              "      <th>4</th>\n",
              "      <td>4039655</td>\n",
              "      <td>1. A composition of matter useful in caries pr...</td>\n",
              "    </tr>\n",
              "  </tbody>\n",
              "</table>\n",
              "</div>"
            ],
            "text/plain": [
              "    pat_no                                      concat_claims\n",
              "0  4039651  1. In the process for the production of hydrog...\n",
              "1  4039652  1. A method for the quantitative determination...\n",
              "2  4039653  1. A tablet for releasing a relatively uniform...\n",
              "3  4039654  1. A prostanoic acid derivative of the formula...\n",
              "4  4039655  1. A composition of matter useful in caries pr..."
            ]
          },
          "metadata": {
            "tags": []
          },
          "execution_count": 5
        }
      ]
    },
    {
      "cell_type": "code",
      "metadata": {
        "id": "2ieq_q8VknkI",
        "colab_type": "code",
        "outputId": "99396517-bc14-4eb7-c009-9f2b47fb1794",
        "colab": {
          "base_uri": "https://localhost:8080/",
          "height": 206
        }
      },
      "source": [
        "df3 = df2.copy()\n",
        "df3['processed'] = df3['concat_claims']\n",
        "\n",
        "#preprocess data\n",
        "stemmer = SnowballStemmer('english')   #snowball stemmer chosen over porter due for its aggressiveness\n",
        "\n",
        "#preprocess data\n",
        "df3['processed'] = df3['processed'].str.replace('\\d+', '') #remove digits\n",
        "df3['processed'] = df3['processed'].str.replace('[^\\w\\s]','') #remove punctuation\n",
        "df3['processed'] = df3['processed'].str.lower() #lowercase\n",
        "#df3['processed'] = df3['processed'].apply(lambda x: \" \".join([spell(i) for i in x.split()]))   #spellcheck             #computationally too intensive\n",
        "df3['processed']= df3['processed'].apply(treebank_tokenizer.tokenize) #tokenize\n",
        "df3['processed'] = df3['processed'].apply(lambda x: [y for y in x if y not in stop]) #remove stop words\n",
        "#df3['processed'] = df3['processed'].apply(lambda x: [wordnet_lemmatizer.lemmatize(item) for item in x]) #lemmatize    #stemming chosen over lemmatize\n",
        "df3['processed'] = df3['processed'].apply(lambda x: [stemmer.stem(item) for item in x]) #stem\n",
        "df3.head()\n"
      ],
      "execution_count": 6,
      "outputs": [
        {
          "output_type": "execute_result",
          "data": {
            "text/html": [
              "<div>\n",
              "<style scoped>\n",
              "    .dataframe tbody tr th:only-of-type {\n",
              "        vertical-align: middle;\n",
              "    }\n",
              "\n",
              "    .dataframe tbody tr th {\n",
              "        vertical-align: top;\n",
              "    }\n",
              "\n",
              "    .dataframe thead th {\n",
              "        text-align: right;\n",
              "    }\n",
              "</style>\n",
              "<table border=\"1\" class=\"dataframe\">\n",
              "  <thead>\n",
              "    <tr style=\"text-align: right;\">\n",
              "      <th></th>\n",
              "      <th>pat_no</th>\n",
              "      <th>concat_claims</th>\n",
              "      <th>processed</th>\n",
              "    </tr>\n",
              "  </thead>\n",
              "  <tbody>\n",
              "    <tr>\n",
              "      <th>0</th>\n",
              "      <td>4039651</td>\n",
              "      <td>1. In the process for the production of hydrog...</td>\n",
              "      <td>[process, product, hydrogen, oxygen, water, me...</td>\n",
              "    </tr>\n",
              "    <tr>\n",
              "      <th>1</th>\n",
              "      <td>4039652</td>\n",
              "      <td>1. A method for the quantitative determination...</td>\n",
              "      <td>[method, quantit, determin, specif, bind, subs...</td>\n",
              "    </tr>\n",
              "    <tr>\n",
              "      <th>2</th>\n",
              "      <td>4039653</td>\n",
              "      <td>1. A tablet for releasing a relatively uniform...</td>\n",
              "      <td>[tablet, releas, relat, uniform, quantiti, med...</td>\n",
              "    </tr>\n",
              "    <tr>\n",
              "      <th>3</th>\n",
              "      <td>4039654</td>\n",
              "      <td>1. A prostanoic acid derivative of the formula...</td>\n",
              "      <td>[prostano, acid, deriv, formula, str, wherein,...</td>\n",
              "    </tr>\n",
              "    <tr>\n",
              "      <th>4</th>\n",
              "      <td>4039655</td>\n",
              "      <td>1. A composition of matter useful in caries pr...</td>\n",
              "      <td>[composit, matter, use, cari, prevent, compris...</td>\n",
              "    </tr>\n",
              "  </tbody>\n",
              "</table>\n",
              "</div>"
            ],
            "text/plain": [
              "    pat_no  ...                                          processed\n",
              "0  4039651  ...  [process, product, hydrogen, oxygen, water, me...\n",
              "1  4039652  ...  [method, quantit, determin, specif, bind, subs...\n",
              "2  4039653  ...  [tablet, releas, relat, uniform, quantiti, med...\n",
              "3  4039654  ...  [prostano, acid, deriv, formula, str, wherein,...\n",
              "4  4039655  ...  [composit, matter, use, cari, prevent, compris...\n",
              "\n",
              "[5 rows x 3 columns]"
            ]
          },
          "metadata": {
            "tags": []
          },
          "execution_count": 6
        }
      ]
    },
    {
      "cell_type": "code",
      "metadata": {
        "id": "ncGRhwOo6OOk",
        "colab_type": "code",
        "outputId": "d13aba70-7741-437c-965f-41f5558d2840",
        "colab": {
          "base_uri": "https://localhost:8080/",
          "height": 206
        }
      },
      "source": [
        "#create keyword list of 40 of the most commonly used words\n",
        "df4=df3.copy()\n",
        "df4['keywords'] = df4['processed'].apply(lambda x: [k for k, v in Counter(x).most_common(30)])\n",
        "dfIndex = df4\n",
        "dfIndex.to_csv('patentIndex.csv')\n",
        "dfIndex = df4.drop(['concat_claims'], axis=1)\n",
        "dfIndex.head()"
      ],
      "execution_count": 7,
      "outputs": [
        {
          "output_type": "execute_result",
          "data": {
            "text/html": [
              "<div>\n",
              "<style scoped>\n",
              "    .dataframe tbody tr th:only-of-type {\n",
              "        vertical-align: middle;\n",
              "    }\n",
              "\n",
              "    .dataframe tbody tr th {\n",
              "        vertical-align: top;\n",
              "    }\n",
              "\n",
              "    .dataframe thead th {\n",
              "        text-align: right;\n",
              "    }\n",
              "</style>\n",
              "<table border=\"1\" class=\"dataframe\">\n",
              "  <thead>\n",
              "    <tr style=\"text-align: right;\">\n",
              "      <th></th>\n",
              "      <th>pat_no</th>\n",
              "      <th>processed</th>\n",
              "      <th>keywords</th>\n",
              "    </tr>\n",
              "  </thead>\n",
              "  <tbody>\n",
              "    <tr>\n",
              "      <th>0</th>\n",
              "      <td>4039651</td>\n",
              "      <td>[process, product, hydrogen, oxygen, water, me...</td>\n",
              "      <td>[iron, oxid, chlorid, step, ii, process, hydro...</td>\n",
              "    </tr>\n",
              "    <tr>\n",
              "      <th>1</th>\n",
              "      <td>4039652</td>\n",
              "      <td>[method, quantit, determin, specif, bind, subs...</td>\n",
              "      <td>[said, matrix, sampl, wherein, method, predete...</td>\n",
              "    </tr>\n",
              "    <tr>\n",
              "      <th>2</th>\n",
              "      <td>4039653</td>\n",
              "      <td>[tablet, releas, relat, uniform, quantiti, med...</td>\n",
              "      <td>[tablet, said, materi, medica, releas, odormas...</td>\n",
              "    </tr>\n",
              "    <tr>\n",
              "      <th>3</th>\n",
              "      <td>4039654</td>\n",
              "      <td>[prostano, acid, deriv, formula, str, wherein,...</td>\n",
              "      <td>[rsup, acid, prostano, deriv, hydrogen, claim,...</td>\n",
              "    </tr>\n",
              "    <tr>\n",
              "      <th>4</th>\n",
              "      <td>4039655</td>\n",
              "      <td>[composit, matter, use, cari, prevent, compris...</td>\n",
              "      <td>[group, compound, said, composit, oral, german...</td>\n",
              "    </tr>\n",
              "  </tbody>\n",
              "</table>\n",
              "</div>"
            ],
            "text/plain": [
              "    pat_no  ...                                           keywords\n",
              "0  4039651  ...  [iron, oxid, chlorid, step, ii, process, hydro...\n",
              "1  4039652  ...  [said, matrix, sampl, wherein, method, predete...\n",
              "2  4039653  ...  [tablet, said, materi, medica, releas, odormas...\n",
              "3  4039654  ...  [rsup, acid, prostano, deriv, hydrogen, claim,...\n",
              "4  4039655  ...  [group, compound, said, composit, oral, german...\n",
              "\n",
              "[5 rows x 3 columns]"
            ]
          },
          "metadata": {
            "tags": []
          },
          "execution_count": 7
        }
      ]
    },
    {
      "cell_type": "code",
      "metadata": {
        "id": "J28OD_3fGmy9",
        "colab_type": "code",
        "outputId": "800442d7-2a4d-405e-8dc1-f117dca87582",
        "colab": {
          "base_uri": "https://localhost:8080/",
          "height": 35
        }
      },
      "source": [
        "#rawSearch=(input('Enter your search:'))\n",
        "#aggressive spellchecker/autocorrect simplifies search\n",
        "#but has obvious limitations \n",
        "rawSearch = 'liquid1 crystalss displaying'\n",
        "\n",
        "\n",
        "def searchPreprocessing(rawSearch):\n",
        "  stemmer = SnowballStemmer('english')\n",
        "  \n",
        "  searchQuery = rawSearch\n",
        "  searchQuery = searchQuery.lower()\n",
        "  searchQuery = ' '.join(map(spell, searchQuery.split()))\n",
        "  searchQuery = searchQuery.replace('[^\\w\\s]','')\n",
        "  searchQuery = searchQuery.replace('\\d+', '')\n",
        "  searchQuery = searchQuery.lower()\n",
        "  searchQuery = treebank_tokenizer.tokenize(searchQuery)\n",
        "  searchQuery = [word for word in searchQuery if word not in stopwords.words('english')]\n",
        "  searchQuery = [stemmer.stem(word) for word in searchQuery]\n",
        "  \n",
        "  print(\"Searching '\" + str(rawSearch) + \"' as: \" + str(searchQuery))\n",
        "  return searchQuery\n",
        "  \n",
        "\n",
        "searchQuery = searchPreprocessing(rawSearch)\n",
        "\n"
      ],
      "execution_count": 8,
      "outputs": [
        {
          "output_type": "stream",
          "text": [
            "Searching 'liquid1 crystalss displaying' as: ['liquid', 'crystal', 'display']\n"
          ],
          "name": "stdout"
        }
      ]
    },
    {
      "cell_type": "code",
      "metadata": {
        "id": "p8EK_iUN-BSe",
        "colab_type": "code",
        "colab": {}
      },
      "source": [
        "#define cosine similarity function\n",
        "def cosine_similarity(document_1_data, document_2_data):\n",
        "    def stringify(whatever):\n",
        "        newString = \" \".join(whatever)\n",
        "        return newString\n",
        "    \n",
        "    \n",
        "    WORD = re.compile(r'\\w+') \n",
        "    \n",
        "    def get_cosine(vec1, vec2):\n",
        "        intersection = set(vec1.keys()) & set(vec2.keys())\n",
        "        numerator = sum([vec1[x] * vec2[x] for x in intersection])\n",
        "        sum1 = sum([vec1[x]**2 for x in vec1.keys()])\n",
        "        sum2 = sum([vec2[x]**2 for x in vec2.keys()])\n",
        "        denominator = math.sqrt(sum1) * math.sqrt(sum2)\n",
        "        \n",
        "        if not denominator:\n",
        "            return 0.0\n",
        "        else:\n",
        "            return float(numerator) / denominator\n",
        "        \n",
        "    def text_to_vector(text):\n",
        "        words = WORD.findall(text)\n",
        "        return Counter(words)\n",
        "    \n",
        "    text1 = stringify(document_1_data)\n",
        "    text2 = stringify(document_2_data)\n",
        "    \n",
        "    vector1 = text_to_vector(text1)\n",
        "    vector2 = text_to_vector(text2)\n",
        "    \n",
        "    cosine = get_cosine(vector1, vector2)\n",
        "    \n",
        "    return(cosine)\n",
        "\n",
        "    \n",
        "#test   \n",
        "#doc1=searchQuery\n",
        "#doc2=dfIndex.iloc[0,1]\n",
        "#cosine_similarity(doc1, doc2)"
      ],
      "execution_count": 0,
      "outputs": []
    },
    {
      "cell_type": "code",
      "metadata": {
        "id": "guET-mR2CLwG",
        "colab_type": "code",
        "outputId": "2176278c-05f2-42fc-f238-3089f923316e",
        "colab": {
          "base_uri": "https://localhost:8080/",
          "height": 359
        }
      },
      "source": [
        "#find cosine values and rank them\n",
        "searchRank = []\n",
        "doc1=searchQuery\n",
        "\n",
        "for index, row in dfIndex.iterrows():\n",
        "  doc2 = dfIndex.iloc[index,1]\n",
        "  procesCos = (cosine_similarity(doc1,doc2))\n",
        "  doc2 = dfIndex.iloc[index,2]\n",
        "  keyworCos = (cosine_similarity(doc1,doc2))\n",
        "  temp = (dfIndex.iloc[index,0], procesCos, keyworCos)\n",
        "  searchRank.append(temp)\n",
        "\n",
        "\n",
        "searchRank=pd.DataFrame(searchRank ,columns=['patNo', 'processedCosRank', 'keywordCosRank'])\n",
        "\n",
        "\n",
        "#rank by processed tokens\n",
        "searchRank = searchRank.sort_values(by=['processedCosRank'], ascending=False)\n",
        "#rank by keyword matches\n",
        "#searchRank = searchRank.sort_values(by=['keywordCosRank'], ascending=False)\n",
        "searchRank.head(10)"
      ],
      "execution_count": 0,
      "outputs": [
        {
          "output_type": "execute_result",
          "data": {
            "text/html": [
              "<div>\n",
              "<style scoped>\n",
              "    .dataframe tbody tr th:only-of-type {\n",
              "        vertical-align: middle;\n",
              "    }\n",
              "\n",
              "    .dataframe tbody tr th {\n",
              "        vertical-align: top;\n",
              "    }\n",
              "\n",
              "    .dataframe thead th {\n",
              "        text-align: right;\n",
              "    }\n",
              "</style>\n",
              "<table border=\"1\" class=\"dataframe\">\n",
              "  <thead>\n",
              "    <tr style=\"text-align: right;\">\n",
              "      <th></th>\n",
              "      <th>patNo</th>\n",
              "      <th>processedCosRank</th>\n",
              "      <th>keywordCosRank</th>\n",
              "    </tr>\n",
              "  </thead>\n",
              "  <tbody>\n",
              "    <tr>\n",
              "      <th>915</th>\n",
              "      <td>4040567</td>\n",
              "      <td>0.305293</td>\n",
              "      <td>0.105409</td>\n",
              "    </tr>\n",
              "    <tr>\n",
              "      <th>152</th>\n",
              "      <td>4039803</td>\n",
              "      <td>0.286308</td>\n",
              "      <td>0.210819</td>\n",
              "    </tr>\n",
              "    <tr>\n",
              "      <th>75</th>\n",
              "      <td>4039726</td>\n",
              "      <td>0.266242</td>\n",
              "      <td>0.105409</td>\n",
              "    </tr>\n",
              "    <tr>\n",
              "      <th>1067</th>\n",
              "      <td>4040719</td>\n",
              "      <td>0.245722</td>\n",
              "      <td>0.316228</td>\n",
              "    </tr>\n",
              "    <tr>\n",
              "      <th>1073</th>\n",
              "      <td>4040725</td>\n",
              "      <td>0.216401</td>\n",
              "      <td>0.105409</td>\n",
              "    </tr>\n",
              "    <tr>\n",
              "      <th>542</th>\n",
              "      <td>4040193</td>\n",
              "      <td>0.190189</td>\n",
              "      <td>0.105409</td>\n",
              "    </tr>\n",
              "    <tr>\n",
              "      <th>194</th>\n",
              "      <td>4039845</td>\n",
              "      <td>0.181733</td>\n",
              "      <td>0.105409</td>\n",
              "    </tr>\n",
              "    <tr>\n",
              "      <th>1068</th>\n",
              "      <td>4040720</td>\n",
              "      <td>0.181273</td>\n",
              "      <td>0.316228</td>\n",
              "    </tr>\n",
              "    <tr>\n",
              "      <th>230</th>\n",
              "      <td>4039881</td>\n",
              "      <td>0.176734</td>\n",
              "      <td>0.105409</td>\n",
              "    </tr>\n",
              "    <tr>\n",
              "      <th>178</th>\n",
              "      <td>4039829</td>\n",
              "      <td>0.165418</td>\n",
              "      <td>0.105409</td>\n",
              "    </tr>\n",
              "  </tbody>\n",
              "</table>\n",
              "</div>"
            ],
            "text/plain": [
              "        patNo  processedCosRank  keywordCosRank\n",
              "915   4040567          0.305293        0.105409\n",
              "152   4039803          0.286308        0.210819\n",
              "75    4039726          0.266242        0.105409\n",
              "1067  4040719          0.245722        0.316228\n",
              "1073  4040725          0.216401        0.105409\n",
              "542   4040193          0.190189        0.105409\n",
              "194   4039845          0.181733        0.105409\n",
              "1068  4040720          0.181273        0.316228\n",
              "230   4039881          0.176734        0.105409\n",
              "178   4039829          0.165418        0.105409"
            ]
          },
          "metadata": {
            "tags": []
          },
          "execution_count": 14
        }
      ]
    },
    {
      "cell_type": "code",
      "metadata": {
        "id": "4PQ_Zuy1yaWn",
        "colab_type": "code",
        "outputId": "045053fa-fa1e-483d-8b0c-92f47ec486bd",
        "colab": {
          "base_uri": "https://localhost:8080/",
          "height": 425
        }
      },
      "source": [
        "#take top ranking patent number\n",
        "patNo = str(searchRank.iloc[0,0])\n",
        "\n",
        "url = 'http://www.patentsview.org/api/patents/query?q={\"patent_number\":\"'+ patNo + '\"}&f=[\"inventor_first_name\",\"inventor_last_name\",\"patent_number\", \"patent_title\", \"assignee_country\",\"assignee_organization\"]'\n",
        "\n",
        "r = requests.get(url)\n",
        "json_data = r.json()\n",
        "\n",
        "#for r in json_data['patents']:\n",
        "#    print(r)\n",
        "\n",
        "print(json.dumps(json_data, sort_keys=True, indent=0))"
      ],
      "execution_count": 0,
      "outputs": [
        {
          "output_type": "stream",
          "text": [
            "{\n",
            "\"count\": 1,\n",
            "\"patents\": [\n",
            "{\n",
            "\"assignees\": [\n",
            "{\n",
            "\"assignee_country\": \"US\",\n",
            "\"assignee_key_id\": \"127555\",\n",
            "\"assignee_organization\": \"NuPro, Inc.\"\n",
            "}\n",
            "],\n",
            "\"inventors\": [\n",
            "{\n",
            "\"inventor_first_name\": \"Charles D.\",\n",
            "\"inventor_key_id\": \"16821\",\n",
            "\"inventor_last_name\": \"McNeely\"\n",
            "}\n",
            "],\n",
            "\"patent_number\": \"4040567\",\n",
            "\"patent_title\": \"Heating unit\"\n",
            "}\n",
            "],\n",
            "\"total_patent_count\": 1\n",
            "}\n"
          ],
          "name": "stdout"
        }
      ]
    },
    {
      "cell_type": "code",
      "metadata": {
        "id": "VZPkmhYXCfwv",
        "colab_type": "code",
        "colab": {}
      },
      "source": [
        "#keywords = dfIndex['keywords']\n",
        "#keywords.head()\n",
        "\n",
        "#fuzzywuzzy keyword matching not great\n",
        "#process.extract(str(searchQuery), keywords, limit=4, scorer=fuzz.token_sort_ratio)"
      ],
      "execution_count": 0,
      "outputs": []
    },
    {
      "cell_type": "code",
      "metadata": {
        "id": "2P9bZcGgxhoi",
        "colab_type": "code",
        "colab": {}
      },
      "source": [
        "#Doesn't work on many patents. Using PatentView API Instead\n",
        "#from uspto.peds.client import UsptoPatentExaminationDataSystemClient\n",
        "#client = UsptoPatentExaminationDataSystemClient()\n",
        "\n",
        "#result = client.download_document('3987485')"
      ],
      "execution_count": 0,
      "outputs": []
    }
  ]
}